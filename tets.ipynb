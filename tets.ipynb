{
 "cells": [
  {
   "cell_type": "code",
   "execution_count": 3,
   "metadata": {},
   "outputs": [
    {
     "name": "stdout",
     "output_type": "stream",
     "text": [
      "16\n",
      "20\n"
     ]
    }
   ],
   "source": [
    "print(len(\"0000000000000000\")) ##This is the plaintext, in hex (always 16 num)\n",
    "print(len(\"00000000000000000000\")) ##This is the key, 160 bits"
   ]
  },
  {
   "cell_type": "code",
   "execution_count": 41,
   "metadata": {},
   "outputs": [
    {
     "name": "stdout",
     "output_type": "stream",
     "text": [
      "chipskate in binary is: \n",
      "110001111010001101001111000011100111101011110000111101001100101\n",
      "---------------------------------------------------------------\n",
      "0x63d1a7873d787a65\n",
      "The length in hex is \n",
      "16\n"
     ]
    }
   ],
   "source": [
    "import math\n",
    "c = \"chipskate\"\n",
    "\n",
    "def toBinary(a):\n",
    "    l,m = [], \"\"\n",
    "    for i in a:\n",
    "        l.append(ord(i))\n",
    "    for i in l:\n",
    "        m=m+str((int(bin(i)[2:])))\n",
    "    return m\n",
    "\n",
    "#Changes chipskate into binary\n",
    "c_in_binary = toBinary(\"chipskate\")\n",
    "print(\"chipskate in binary is: \")\n",
    "print(c_in_binary)\n",
    "\n",
    "print(\"---------------------------------------------------------------\")\n",
    "\n",
    "#Get the hex for chipskate\n",
    "print(hex(int(c_in_binary, 2)))\n",
    "print(\"The length in hex is \")\n",
    "print(len(\"63d1a7873d787a65\"))"
   ]
  },
  {
   "cell_type": "code",
   "execution_count": 84,
   "metadata": {},
   "outputs": [
    {
     "name": "stdout",
     "output_type": "stream",
     "text": [
      "0xc3063d1a7873d787a65\n",
      "The length in hex is \n",
      "18\n"
     ]
    }
   ],
   "source": [
    "print(hex(int(toBinary(\"a chipskate\"), 2)))\n",
    "print(\"The length in hex is \")\n",
    "print(len(\"3063d1a7873d787a65\"))  ##This will be the key to encrypt PRESENT (needs to be 20 hex)"
   ]
  },
  {
   "cell_type": "code",
   "execution_count": 109,
   "metadata": {},
   "outputs": [
    {
     "name": "stdout",
     "output_type": "stream",
     "text": [
      "b'BM\\x90\\\\\\x00\\x00\\x00\\x00'\n",
      "b'424d905c00000000'\n",
      "16\n",
      "424d905c00000000'\n"
     ]
    }
   ],
   "source": [
    "import binascii\n",
    "bFile = open('sourceImg3.bmp','rb')\n",
    "bData = bFile.read(8)   #1. Read the file as binary\n",
    "\n",
    "\n",
    "print(bData)    \n",
    "print(binascii.hexlify(bData))   ##2. Change the file binary to hex\n",
    "print(len(\"ffd8ffe000104a46\")) ##3. This will be the PRESENT plaintext, from the image file\n",
    "\n",
    "hexStr = str(binascii.hexlify(bData))\n",
    "print(hexStr[2:])\n",
    "\n",
    "bFile.close()"
   ]
  },
  {
   "cell_type": "code",
   "execution_count": 103,
   "metadata": {},
   "outputs": [
    {
     "name": "stdout",
     "output_type": "stream",
     "text": [
      "10\n",
      "15\n"
     ]
    }
   ],
   "source": [
    "print(0x0A)\n",
    "\n",
    "print(int(\"0x0F\",16))"
   ]
  },
  {
   "cell_type": "code",
   "execution_count": 107,
   "metadata": {},
   "outputs": [
    {
     "name": "stdout",
     "output_type": "stream",
     "text": [
      "7192714279181122149\n"
     ]
    }
   ],
   "source": [
    "print(int(\"0x63d1a7873d787a65\", 16))"
   ]
  },
  {
   "cell_type": "code",
   "execution_count": null,
   "metadata": {},
   "outputs": [],
   "source": []
  }
 ],
 "metadata": {
  "kernelspec": {
   "display_name": "Python 3.10.4 64-bit",
   "language": "python",
   "name": "python3"
  },
  "language_info": {
   "codemirror_mode": {
    "name": "ipython",
    "version": 3
   },
   "file_extension": ".py",
   "mimetype": "text/x-python",
   "name": "python",
   "nbconvert_exporter": "python",
   "pygments_lexer": "ipython3",
   "version": "3.10.5"
  },
  "orig_nbformat": 4,
  "vscode": {
   "interpreter": {
    "hash": "3ca66eb80c8729e54bf661a98dc77caf5a8912399fde5c18ccfecbe601dd8404"
   }
  }
 },
 "nbformat": 4,
 "nbformat_minor": 2
}
